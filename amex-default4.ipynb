{
 "cells": [
  {
   "cell_type": "code",
   "execution_count": 21,
   "metadata": {},
   "outputs": [
    {
     "name": "stdout",
     "output_type": "stream",
     "text": [
      "Cloning into 'LightGBM'...\n",
      "remote: Enumerating objects: 27143, done.\u001b[K\n",
      "remote: Counting objects: 100% (252/252), done.\u001b[K\n",
      "remote: Compressing objects: 100% (132/132), done.\u001b[K\n",
      "remote: Total 27143 (delta 147), reused 189 (delta 115), pack-reused 26891\u001b[K\n",
      "Receiving objects: 100% (27143/27143), 19.57 MiB | 37.53 MiB/s, done.\n",
      "Resolving deltas: 100% (20075/20075), done.\n",
      "Submodule 'include/boost/compute' (https://github.com/boostorg/compute) registered for path 'external_libs/compute'\n",
      "Submodule 'eigen' (https://gitlab.com/libeigen/eigen.git) registered for path 'external_libs/eigen'\n",
      "Submodule 'external_libs/fast_double_parser' (https://github.com/lemire/fast_double_parser.git) registered for path 'external_libs/fast_double_parser'\n",
      "Submodule 'external_libs/fmt' (https://github.com/fmtlib/fmt.git) registered for path 'external_libs/fmt'\n",
      "Cloning into '/home/ubuntu/LightGBM/external_libs/compute'...\n",
      "remote: Enumerating objects: 21733, done.        \n",
      "remote: Counting objects: 100% (5/5), done.        \n",
      "remote: Compressing objects: 100% (4/4), done.        \n",
      "remote: Total 21733 (delta 1), reused 3 (delta 1), pack-reused 21728        \n",
      "Receiving objects: 100% (21733/21733), 8.51 MiB | 38.22 MiB/s, done.\n",
      "Resolving deltas: 100% (17567/17567), done.\n",
      "Cloning into '/home/ubuntu/LightGBM/external_libs/eigen'...\n",
      "remote: Enumerating objects: 116542, done.        \n",
      "remote: Counting objects: 100% (1612/1612), done.        \n",
      "remote: Compressing objects: 100% (576/576), done.        \n",
      "remote: Total 116542 (delta 1070), reused 1518 (delta 1036), pack-reused 114930        \n",
      "Receiving objects: 100% (116542/116542), 103.45 MiB | 36.51 MiB/s, done.\n",
      "Resolving deltas: 100% (95876/95876), done.\n",
      "Cloning into '/home/ubuntu/LightGBM/external_libs/fast_double_parser'...\n",
      "remote: Enumerating objects: 726, done.        \n",
      "remote: Counting objects: 100% (125/125), done.        \n",
      "remote: Compressing objects: 100% (33/33), done.        \n",
      "remote: Total 726 (delta 98), reused 97 (delta 88), pack-reused 601        \n",
      "Receiving objects: 100% (726/726), 821.43 KiB | 24.89 MiB/s, done.\n",
      "Resolving deltas: 100% (369/369), done.\n",
      "Cloning into '/home/ubuntu/LightGBM/external_libs/fmt'...\n",
      "remote: Enumerating objects: 30239, done.        \n",
      "remote: Counting objects: 100% (134/134), done.        \n",
      "remote: Compressing objects: 100% (74/74), done.        \n",
      "remote: Total 30239 (delta 66), reused 93 (delta 43), pack-reused 30105        \n",
      "Receiving objects: 100% (30239/30239), 14.31 MiB | 34.33 MiB/s, done.\n",
      "Resolving deltas: 100% (20398/20398), done.\n",
      "Submodule path 'external_libs/compute': checked out '36350b7de849300bd3d72a05d8bf890ca405a014'\n",
      "Submodule path 'external_libs/eigen': checked out '3147391d946bb4b6c68edd901f2add6ac1f31f8c'\n",
      "Submodule path 'external_libs/fast_double_parser': checked out 'ace60646c02dc54c57f19d644e49a61e7e7758ec'\n",
      "Submodule 'benchmark/dependencies/abseil-cpp' (https://github.com/abseil/abseil-cpp.git) registered for path 'external_libs/fast_double_parser/benchmarks/dependencies/abseil-cpp'\n",
      "Submodule 'benchmark/dependencies/double-conversion' (https://github.com/google/double-conversion.git) registered for path 'external_libs/fast_double_parser/benchmarks/dependencies/double-conversion'\n",
      "Cloning into '/home/ubuntu/LightGBM/external_libs/fast_double_parser/benchmarks/dependencies/abseil-cpp'...\n",
      "^C\n",
      "warning: Clone succeeded, but checkout failed.\n",
      "You can inspect what was checked out with 'git status'\n",
      "and retry with 'git restore --source=HEAD :/'\n",
      "\n"
     ]
    },
    {
     "name": "stderr",
     "output_type": "stream",
     "text": [
      "2022-08-20 07:13:15,681 - distributed.nanny - WARNING - Restarting worker\n",
      "2022-08-20 07:13:15,684 - distributed.nanny - WARNING - Restarting worker\n",
      "2022-08-20 07:13:15,860 - distributed.nanny - WARNING - Restarting worker\n",
      "2022-08-20 07:13:16,178 - distributed.nanny - WARNING - Restarting worker\n",
      "2022-08-20 07:13:17,144 - distributed.nanny - WARNING - Restarting worker\n",
      "2022-08-20 07:13:17,147 - distributed.nanny - WARNING - Restarting worker\n",
      "2022-08-20 07:13:17,335 - distributed.nanny - WARNING - Restarting worker\n",
      "2022-08-20 07:13:17,635 - distributed.nanny - WARNING - Restarting worker\n"
     ]
    },
    {
     "name": "stdout",
     "output_type": "stream",
     "text": [
      "\u001b[33mCMake Warning:\n",
      "  No source or binary directory provided.  Both will be assumed to be the\n",
      "  same as the current working directory, but note that this warning will\n",
      "  become a fatal error in future CMake releases.\n",
      "\n",
      "\u001b[0m\n",
      "\u001b[0mCMake Error: The source directory \"/home/ubuntu\" does not appear to contain CMakeLists.txt.\n",
      "Specify --help for usage, or press the help button on the CMake GUI.\u001b[0m\n",
      "make: *** No targets specified and no makefile found.  Stop.\n"
     ]
    }
   ],
   "source": [
    "# gpu support\n",
    "# may need to install nvidia drivers etc ref: https://lightgbm.readthedocs.io/en/latest/GPU-Tutorial.html\n",
    "!git clone --recursive https://github.com/microsoft/LightGBM\n",
    "!cd LightGBM\n",
    "!mkdir build\n",
    "!cd build\n",
    "!cmake -DUSE_GPU=1\n",
    "!make -j$(nproc)\n",
    "!cd ..\n"
   ]
  },
  {
   "cell_type": "code",
   "execution_count": null,
   "metadata": {},
   "outputs": [
    {
     "name": "stdout",
     "output_type": "stream",
     "text": [
      "Requirement already satisfied: lightgbm in ./env/lib/python3.8/site-packages (3.3.2)\n",
      "Requirement already satisfied: wheel in ./env/lib/python3.8/site-packages (from lightgbm) (0.37.1)\n",
      "Requirement already satisfied: scipy in ./env/lib/python3.8/site-packages (from lightgbm) (1.5.4)\n",
      "Requirement already satisfied: numpy in ./env/lib/python3.8/site-packages (from lightgbm) (1.19.5)\n",
      "Requirement already satisfied: scikit-learn!=0.22.0 in ./env/lib/python3.8/site-packages (from lightgbm) (0.24.2)\n",
      "Requirement already satisfied: joblib>=0.11 in ./env/lib/python3.8/site-packages (from scikit-learn!=0.22.0->lightgbm) (1.1.0)\n",
      "Requirement already satisfied: threadpoolctl>=2.0.0 in ./env/lib/python3.8/site-packages (from scikit-learn!=0.22.0->lightgbm) (3.1.0)\n",
      "Requirement already satisfied: dask[complete] in ./env/lib/python3.8/site-packages (2022.8.0)\n",
      "Requirement already satisfied: toolz>=0.8.2 in ./env/lib/python3.8/site-packages (from dask[complete]) (0.12.0)\n",
      "Requirement already satisfied: pyyaml>=5.3.1 in ./env/lib/python3.8/site-packages (from dask[complete]) (5.4.1)\n",
      "Requirement already satisfied: packaging>=20.0 in ./env/lib/python3.8/site-packages (from dask[complete]) (21.3)\n",
      "Requirement already satisfied: partd>=0.3.10 in ./env/lib/python3.8/site-packages (from dask[complete]) (1.3.0)\n",
      "Requirement already satisfied: fsspec>=0.6.0 in ./env/lib/python3.8/site-packages (from dask[complete]) (2022.7.1)\n",
      "Requirement already satisfied: cloudpickle>=1.1.1 in ./env/lib/python3.8/site-packages (from dask[complete]) (2.1.0)\n",
      "Requirement already satisfied: bokeh>=2.4.2 in ./env/lib/python3.8/site-packages (from dask[complete]) (2.4.3)\n",
      "Requirement already satisfied: numpy>=1.18 in ./env/lib/python3.8/site-packages (from dask[complete]) (1.19.5)\n",
      "Requirement already satisfied: jinja2 in ./env/lib/python3.8/site-packages (from dask[complete]) (3.0.3)\n",
      "Requirement already satisfied: distributed==2022.8.0 in ./env/lib/python3.8/site-packages (from dask[complete]) (2022.8.0)\n",
      "Requirement already satisfied: pandas>=1.0 in ./env/lib/python3.8/site-packages (from dask[complete]) (1.1.5)\n",
      "Requirement already satisfied: locket>=1.0.0 in ./env/lib/python3.8/site-packages (from distributed==2022.8.0->dask[complete]) (1.0.0)\n",
      "Requirement already satisfied: click>=6.6 in ./env/lib/python3.8/site-packages (from distributed==2022.8.0->dask[complete]) (8.0.4)\n",
      "Requirement already satisfied: psutil>=5.0 in ./env/lib/python3.8/site-packages (from distributed==2022.8.0->dask[complete]) (5.9.1)\n",
      "Requirement already satisfied: urllib3 in ./env/lib/python3.8/site-packages (from distributed==2022.8.0->dask[complete]) (1.26.9)\n",
      "Requirement already satisfied: tornado<6.2,>=6.0.3 in ./env/lib/python3.8/site-packages (from distributed==2022.8.0->dask[complete]) (6.1)\n",
      "Requirement already satisfied: tblib>=1.6.0 in ./env/lib/python3.8/site-packages (from distributed==2022.8.0->dask[complete]) (1.7.0)\n",
      "Requirement already satisfied: msgpack>=0.6.0 in ./env/lib/python3.8/site-packages (from distributed==2022.8.0->dask[complete]) (1.0.4)\n",
      "Requirement already satisfied: zict>=0.1.3 in ./env/lib/python3.8/site-packages (from distributed==2022.8.0->dask[complete]) (2.2.0)\n",
      "Requirement already satisfied: sortedcontainers!=2.0.0,!=2.0.1 in ./env/lib/python3.8/site-packages (from distributed==2022.8.0->dask[complete]) (2.4.0)\n",
      "Requirement already satisfied: typing-extensions>=3.10.0 in ./env/lib/python3.8/site-packages (from bokeh>=2.4.2->dask[complete]) (4.1.1)\n",
      "Requirement already satisfied: pillow>=7.1.0 in ./env/lib/python3.8/site-packages (from bokeh>=2.4.2->dask[complete]) (8.4.0)\n",
      "Requirement already satisfied: MarkupSafe>=2.0 in ./env/lib/python3.8/site-packages (from jinja2->dask[complete]) (2.0.1)\n",
      "Requirement already satisfied: pyparsing!=3.0.5,>=2.0.2 in ./env/lib/python3.8/site-packages (from packaging>=20.0->dask[complete]) (3.0.7)\n",
      "Requirement already satisfied: python-dateutil>=2.7.3 in ./env/lib/python3.8/site-packages (from pandas>=1.0->dask[complete]) (2.8.2)\n",
      "Requirement already satisfied: pytz>=2017.2 in ./env/lib/python3.8/site-packages (from pandas>=1.0->dask[complete]) (2021.3)\n",
      "Requirement already satisfied: six>=1.5 in ./env/lib/python3.8/site-packages (from python-dateutil>=2.7.3->pandas>=1.0->dask[complete]) (1.16.0)\n",
      "Requirement already satisfied: heapdict in ./env/lib/python3.8/site-packages (from zict>=0.1.3->distributed==2022.8.0->dask[complete]) (1.0.1)\n",
      "Requirement already satisfied: sklearn in ./env/lib/python3.8/site-packages (0.0)\n",
      "Requirement already satisfied: scikit-learn in ./env/lib/python3.8/site-packages (from sklearn) (0.24.2)\n",
      "Requirement already satisfied: numpy>=1.13.3 in ./env/lib/python3.8/site-packages (from scikit-learn->sklearn) (1.19.5)\n",
      "Requirement already satisfied: scipy>=0.19.1 in ./env/lib/python3.8/site-packages (from scikit-learn->sklearn) (1.5.4)\n",
      "Requirement already satisfied: threadpoolctl>=2.0.0 in ./env/lib/python3.8/site-packages (from scikit-learn->sklearn) (3.1.0)\n",
      "Requirement already satisfied: joblib>=0.11 in ./env/lib/python3.8/site-packages (from scikit-learn->sklearn) (1.1.0)\n"
     ]
    }
   ],
   "source": [
    "!pip install lightgbm\n",
    "!pip install dask[complete]\n",
    "!pip install sklearn"
   ]
  },
  {
   "cell_type": "code",
   "execution_count": 2,
   "metadata": {},
   "outputs": [],
   "source": [
    "import numpy as np\n",
    "import lightgbm as lgb\n",
    "import pandas as pd\n",
    "import dask.dataframe as dd\n",
    "import matplotlib\n"
   ]
  },
  {
   "cell_type": "code",
   "execution_count": 4,
   "metadata": {},
   "outputs": [
    {
     "name": "stderr",
     "output_type": "stream",
     "text": [
      "/home/ubuntu/env/lib/python3.8/site-packages/distributed/node.py:183: UserWarning: Port 8787 is already in use.\n",
      "Perhaps you already have a cluster running?\n",
      "Hosting the HTTP server on port 42701 instead\n",
      "  warnings.warn(\n"
     ]
    }
   ],
   "source": [
    "from distributed import Client, LocalCluster\n",
    "cluster = LocalCluster()\n",
    "client = Client(cluster)\n",
    "# client.restart()\n",
    "# client.close()\n",
    "# client.shutdown()"
   ]
  },
  {
   "cell_type": "code",
   "execution_count": 30,
   "metadata": {},
   "outputs": [
    {
     "name": "stdout",
     "output_type": "stream",
     "text": [
      "CPU times: user 238 ms, sys: 28 ms, total: 266 ms\n",
      "Wall time: 252 ms\n"
     ]
    }
   ],
   "source": [
    "%%time\n",
    "\n",
    "# dask\n",
    "# https://youtu.be/lPcX2xev0ho\n",
    "\n",
    "training_features = dd.read_csv(\"./originalDataset/train_data.csv\", blocksize=25e6)\n",
    "training_label = dd.read_csv(\"./originalDataset/train_labels.csv\", blocksize=25e6)\n",
    "\n",
    "training_merged = training_features.merge(\n",
    "    training_label, \n",
    "    how=\"outer\", \n",
    "    on=[\"customer_ID\"]\n",
    ")\n",
    "\n",
    "# training_merged.compute()\n",
    "# training_merged.head(n=5)\n",
    "\n",
    "\n",
    "\n"
   ]
  },
  {
   "cell_type": "code",
   "execution_count": 31,
   "metadata": {},
   "outputs": [
    {
     "name": "stdout",
     "output_type": "stream",
     "text": [
      "CPU times: user 426 ms, sys: 35.9 ms, total: 462 ms\n",
      "Wall time: 431 ms\n"
     ]
    }
   ],
   "source": [
    "%%time\n",
    "# https://towardsdatascience.com/parallelizing-feature-engineering-with-dask-3db88aec33b7\n",
    "# feature engineering\n",
    "categorical_feature_array=[\n",
    "        \"B_30\", \"B_38\", \"D_114\", \n",
    "        \"D_116\", \"D_117\", \"D_120\",\n",
    "        \"D_126\", \"D_64\",\n",
    "        \"D_66\", \"D_68\"\n",
    "]\n",
    "# removed column D_63 because had ML algo (fit) couldn't understand the column & couldn't properly change type \n",
    "\n",
    "\n",
    "def feature_engineering(dataframe):\n",
    "        # dataframe[\"D_63\"] = dataframe[\"D_63\"].astype(\"category\")\n",
    "        # dataframe[\"D_64\"] = dataframe[\"D_64\"].astype(\"category\")\n",
    "\n",
    "        dataframe[categorical_feature_array] = dataframe[categorical_feature_array].astype(\"category\")\n",
    "\n",
    "        \n",
    "        dataframe[\"S_2\"] = dd.to_datetime(dataframe[\"S_2\"])\n",
    "        dataframe[\"month\"] = dataframe[\"S_2\"].dt.month\n",
    "        dataframe[\"day\"] = dataframe[\"S_2\"].dt.dayofweek\n",
    "        dataframe[\"year\"] = dataframe[\"S_2\"].dt.year\n",
    "\n",
    "        dataframe[\"D_63\"] = dataframe[\"D_63\"].astype(\"category\")\n",
    "        return dataframe.drop(columns=[\"S_2\"])\n",
    "        # note dropping D_63 column, loses some information, also alt convert sin cos time \n",
    "\n",
    "training_merged = feature_engineering(training_merged)\n",
    "\n",
    "# learn dask\n",
    "# https://youtu.be/lPcX2xev0ho"
   ]
  },
  {
   "cell_type": "code",
   "execution_count": null,
   "metadata": {},
   "outputs": [],
   "source": [
    "# print(training_merged[[\"D_63\",\"D_64\"]].dtypes)\n",
    "# print(training_merged[\"D_64\"].head(n=5))\n",
    "# training_merged[\"D_63\"].nunique().compute()\n",
    "# training_merged[\"D_64\"].nunique().compute()"
   ]
  },
  {
   "cell_type": "code",
   "execution_count": 32,
   "metadata": {},
   "outputs": [],
   "source": [
    "%%time\n",
    "# features = training_merged[training_merged.columns[training_merged.columns!=\"target\"]]\n",
    "# label = training_merged[\"target\"]\n",
    "\n",
    "# must create training set, validation set, & test set using training_merged to train, validate, & test model\n",
    "\n",
    "\n",
    "\n",
    "training_set, validation_set, test_set = training_merged.random_split([0.8, 0.1, 0.1], random_state=123)\n",
    "\n",
    "train_x = training_set.drop(columns=[\"target\",\"customer_ID\"]).compute()\n",
    "train_y = training_set[\"target\"].compute()\n",
    "\n",
    "val_x = validation_set.drop(columns=[\"target\",\"customer_ID\"]).compute()\n",
    "val_y = validation_set[\"target\"].compute()\n",
    "\n",
    "test_x = test_set.drop(columns=[\"target\",\"customer_ID\"]).compute()\n",
    "test_y = test_set[\"target\"].compute()\n"
   ]
  },
  {
   "cell_type": "code",
   "execution_count": 28,
   "metadata": {},
   "outputs": [
    {
     "name": "stdout",
     "output_type": "stream",
     "text": [
      "CPU times: user 58 µs, sys: 0 ns, total: 58 µs\n",
      "Wall time: 62.5 µs\n"
     ]
    }
   ],
   "source": [
    "%%time\n",
    "\n",
    "# https://lightgbm.readthedocs.io/en/latest/pythonapi/lightgbm.LGBMRegressor.html\n",
    "# https://lightgbm.readthedocs.io/en/latest/Parallel-Learning-Guide.html#dask\n",
    "# https://www.analyticsvidhya.com/blog/2021/08/complete-guide-on-how-to-use-lightgbm-in-python/\n",
    "# model development\n",
    "\n",
    "\n",
    "\n",
    "# https://lightgbm.readthedocs.io/en/latest/Parameters.html\n",
    "# https://lightgbm.readthedocs.io/en/latest/Parameters-Tuning.html\n",
    "# https://lightgbm.readthedocs.io/en/latest/Parameters-Tuning.html#for-better-accuracy\n",
    "\n",
    "\n",
    "\n",
    "params = {\n",
    "    # change accuracy, use dart bosoting type?\n",
    "    \"num_leaves\" : 140,\n",
    "    \"max_bin\" : 255,\n",
    "    \"learning_rate\" : 0.7,\n",
    "    \"boosting_type\" : \"dart\",\n",
    "    \"num_iterations\" : 500,\n",
    "    \"n_estimators\" : 220,\n",
    "    \n",
    "\n",
    "    # change overfitting\n",
    "    \"max_depth\" : -1,\n",
    "    \"min_split_gain\" : 0,\n",
    "    \"min_child_samples\" : 20,\n",
    "    \"reg_alpha\" : 0,\n",
    "    \"reg_lambda\" : 0,\n",
    "    \"early_stopping\" : 5,\n",
    "    \"feature_pre_filter\" : True,\n",
    "\n",
    "    \n",
    "    \"scale_pos_weight\" : 4,\n",
    "\n",
    "    # gpu, however, using CPU instance this time\n",
    "    # \"device_type\" : \"gpu\",\n",
    "    # \"gpu_platform_id\" : 0,\n",
    "    # \"gpu_device_id\" : 0,\n",
    "\n",
    "    # misc\n",
    "    \"verbose\" : -1,\n",
    "    \"objective\" : \"binary\",\n",
    "    \"num_threads\" : 16,\n",
    "    \"random_state\" : 42\n",
    "}\n",
    "\n",
    "\n",
    "\n",
    "# model = lgb.LGBMClassifier(client=client, **params)\n",
    "model = lgb.LGBMClassifier(**params)\n",
    "\n"
   ]
  },
  {
   "cell_type": "code",
   "execution_count": 29,
   "metadata": {},
   "outputs": [
    {
     "ename": "NameError",
     "evalue": "name 'train_x' is not defined",
     "output_type": "error",
     "traceback": [
      "\u001b[0;31m---------------------------------------------------------------------------\u001b[0m",
      "\u001b[0;31mNameError\u001b[0m                                 Traceback (most recent call last)",
      "\u001b[0;32m<timed eval>\u001b[0m in \u001b[0;36m<module>\u001b[0;34m\u001b[0m\n",
      "\u001b[0;31mNameError\u001b[0m: name 'train_x' is not defined"
     ]
    }
   ],
   "source": [
    "%%time\n",
    "\n",
    "model.fit(\n",
    "    train_x,\n",
    "    train_y,\n",
    "    eval_set=[(val_x, val_y),(train_x, train_y)],\n",
    "    eval_metric=\"logloss\"\n",
    "    # ,categorical_feature=categorical_feature_array\n",
    ")\n",
    "\n"
   ]
  },
  {
   "cell_type": "code",
   "execution_count": 22,
   "metadata": {},
   "outputs": [
    {
     "name": "stdout",
     "output_type": "stream",
     "text": [
      "Training accuracy: 0.9627419195552154\n",
      "Validation accuracy: 0.9220814918226073\n",
      "Test accuracy: 0.921321071744747\n"
     ]
    }
   ],
   "source": [
    "print(f\"Training accuracy: {model.score(train_x, train_y)}\")\n",
    "print(f\"Validation accuracy: {model.score(val_x, val_y)}\")\n",
    "print(f\"Test accuracy: {model.score(test_x, test_y)}\")"
   ]
  },
  {
   "cell_type": "code",
   "execution_count": 21,
   "metadata": {},
   "outputs": [
    {
     "data": {
      "text/plain": [
       "<lightgbm.basic.Booster at 0xffff64ccfa60>"
      ]
     },
     "execution_count": 21,
     "metadata": {},
     "output_type": "execute_result"
    }
   ],
   "source": [
    "# pickle model when done?\n",
    "model.booster_.save_model(\"mod3.txt\")"
   ]
  },
  {
   "cell_type": "code",
   "execution_count": 23,
   "metadata": {},
   "outputs": [
    {
     "name": "stdout",
     "output_type": "stream",
     "text": [
      "              precision    recall  f1-score   support\n",
      "\n",
      "           0       0.98      0.91      0.95    415728\n",
      "           1       0.78      0.95      0.86    137762\n",
      "\n",
      "    accuracy                           0.92    553490\n",
      "   macro avg       0.88      0.93      0.90    553490\n",
      "weighted avg       0.93      0.92      0.92    553490\n",
      "\n",
      "CPU times: user 9min 51s, sys: 1.28 s, total: 9min 52s\n",
      "Wall time: 41 s\n"
     ]
    },
    {
     "data": {
      "image/png": "[encoded data removed]",
      "text/plain": [
       "<Figure size 432x288 with 1 Axes>"
      ]
     },
     "metadata": {
      "needs_background": "light"
     },
     "output_type": "display_data"
    },
    {
     "data": {
      "image/png": "[encoded data removed]",
      "text/plain": [
       "<Figure size 432x288 with 1 Axes>"
      ]
     },
     "metadata": {
      "needs_background": "light"
     },
     "output_type": "display_data"
    }
   ],
   "source": [
    "%%time\n",
    "# https://www.analyticsvidhya.com/blog/2021/08/complete-guide-on-how-to-use-lightgbm-in-python/\n",
    "# Additional\n",
    "from sklearn.metrics import classification_report\n",
    "lgb.plot_importance(model)\n",
    "lgb.plot_metric(model)\n",
    "print(classification_report(test_y,model.predict(test_x)))"
   ]
  },
  {
   "cell_type": "code",
   "execution_count": 12,
   "metadata": {},
   "outputs": [],
   "source": [
    "model = lgb.Booster(model_file = \"mod3.txt\")"
   ]
  },
  {
   "cell_type": "code",
   "execution_count": 9,
   "metadata": {},
   "outputs": [
    {
     "name": "stdout",
     "output_type": "stream",
     "text": [
      "CPU times: user 447 ms, sys: 61.8 ms, total: 509 ms\n",
      "Wall time: 466 ms\n"
     ]
    }
   ],
   "source": [
    "%%time\n",
    "# make predictions on test_data features and reference sample_submission for format\n",
    "test_features_with_ID = dd.read_csv(\"./originalDataset/test_data.csv\")\n",
    "\n",
    "# changes features to match what was used to train model\n",
    "test_features_with_ID = feature_engineering(test_features_with_ID)\n",
    "\n",
    "customer_ID = test_features_with_ID[\"customer_ID\"]\n",
    "\n",
    "\n",
    "\n"
   ]
  },
  {
   "cell_type": "code",
   "execution_count": 10,
   "metadata": {},
   "outputs": [],
   "source": [
    "# changes features to match what was used to train model\n",
    "test_features = test_features_with_ID.drop(columns=[\"customer_ID\"])\n",
    "# running .compute on huge dataset causes crash?\n"
   ]
  },
  {
   "cell_type": "code",
   "execution_count": 13,
   "metadata": {},
   "outputs": [],
   "source": [
    "# booster.predict\n",
    "pred_y = model.predict(test_features.compute())\n",
    "\n",
    "# lightgbm.predict\n",
    "# pred_y = model.predict(test_features.compute())\n",
    "\n",
    "# if booster.predict (loaded the model) spits out probability instead of 0 or 1\n",
    "# if lightgbm.predict, spits out 0 or 1\n",
    "# https://stackoverflow.com/questions/71813904/why-lightgbm-with-objective-binary-donot-return-binary-value-0-and-1-when-c"
   ]
  },
  {
   "cell_type": "code",
   "execution_count": 23,
   "metadata": {},
   "outputs": [],
   "source": [
    "# convert probability to class if booster.predict\n",
    "pred_y = (pred_y > 0.5).astype(\"int\")"
   ]
  },
  {
   "cell_type": "code",
   "execution_count": 26,
   "metadata": {},
   "outputs": [],
   "source": [
    "submission = pd.DataFrame({\"customer_ID\": customer_ID, \"prediction\": pred_y})\n",
    "# you could use any filename. We choose submission here\n",
    "submission.drop_duplicates(subset=\"customer_ID\", keep=\"first\", inplace=True)\n",
    "submission.to_csv(\"submit_mod3_dropdup.csv\", index=False)"
   ]
  },
  {
   "cell_type": "code",
   "execution_count": 27,
   "metadata": {},
   "outputs": [
    {
     "name": "stdout",
     "output_type": "stream",
     "text": [
      "100%|██████████████████████████████████████| 59.1M/59.1M [00:01<00:00, 50.9MB/s]\n",
      "Successfully submitted to American Express - Default Prediction"
     ]
    }
   ],
   "source": [
    "# in cli\n",
    "# kaggle competitions submit -c [COMPETITION] -f [FILE] -m [MESSAGE]\n",
    "# https://stackoverflow.com/questions/51059644/kaggle-file-sumbission-error-santander-value-prediction-challenge\n",
    "# ^ solve xx has already been defined\n",
    "!kaggle competitions submit -c amex-default-prediction -f submit_mod3_dropdup.csv -m \"first submit\""
   ]
  }
 ],
 "metadata": {
  "kernelspec": {
   "display_name": "Python 3",
   "language": "python",
   "name": "python3"
  },
  "language_info": {
   "codemirror_mode": {
    "name": "ipython",
    "version": 3
   },
   "file_extension": ".py",
   "mimetype": "text/x-python",
   "name": "python",
   "nbconvert_exporter": "python",
   "pygments_lexer": "ipython3",
   "version": "3.8.10"
  },
  "orig_nbformat": 4,
  "vscode": {
   "interpreter": {
    "hash": "8c7f0a6833b2e90d418006e0e6deec1fc5fac15b23c1dee2df1a27ddd2f0576d"
   }
  }
 },
 "nbformat": 4,
 "nbformat_minor": 2
}
